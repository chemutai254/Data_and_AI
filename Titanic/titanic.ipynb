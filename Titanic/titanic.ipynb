{
  "cells": [
    {
      "cell_type": "markdown",
      "metadata": {
        "id": "rTt61FE1toOP"
      },
      "source": [
        "# **TITANIC EXPLORATORY DATA ANALYSIS**"
      ]
    },
    {
      "cell_type": "markdown",
      "metadata": {
        "id": "4LUmO05wtoOU"
      },
      "source": [
        "### **History of the `Titanic`**\n",
        "<p>The RMS Titanic was a British cruise ship that sank on April 15, 1912, during its maiden voyage from Southampton, England, to New York City. It was the largest ship in the world at the time, measuring 882 feet long and 92 feet wide, and displacing 52,310 long tons. The Titanic departed from Southampton on April 10, 1912, stopping at the French port of Cherbourg and the Irish port of Queenstown to pick up more passengers before setting off across the Atlantic Ocean.</p>\n",
        "<p>Despite receiving several ice warnings, the Titanic continued at full speed, and at 11 p.m. on April 14, 1912, lookout Fred Fleet spotted an iceberg dead ahead. First Officer William Murdoch ordered the ship turned hard to port and signaled the engine room to reverse direction, but the ship was too large, moving too fast, and the iceberg was too close. The Titanic struck the iceberg, causing several compartments to begin filling with water.</p>\n",
        "<p>The ship's design included a double-hull and 16 watertight compartments sealed by massive doors that could be instantly triggered by a single electric switch on the bridge or automatically by electric water-sensors. However, the ship was not designed to withstand a collision that would flood more than four compartments, and the iceberg had caused five compartments to begin filling with water. The ship began to sink, and the crew began to get people aboard the lifeboats. There were not enough lifeboats for all the passengers, and many left the Titanic only half full.</p>\n",
        "<p>The Titanic sank at 2 a.m. on April 15, 1912, with approximately 1,500 people still on board. The disaster led to the establishment of the International Ice Patrol and the first International Convention for Safety of Life at Sea, which required every ship to have lifeboat space for each person embarked, hold lifeboat drills, and maintain a 24-hour radio watch.</p>\n",
        "\n",
        "### **Objective**\n",
        "- To conduct an `Exploratory Data Analysis` on the `Titanic` dataset. This includes `Univariate`, `Bivariate`, `Multivariate`, `Outlier`, and `Target` Analysis of the data.\n",
        "\n",
        "### **Data Dictionary**\n",
        "| **Variable**         |   **Definition**                                   |    **Categories (Optional)**          |\n",
        "|----------------------|----------------------------------------------------|---------------------------------------|\n",
        "| PassengerId          | Unique identifier of the passenger                 |                                       |\n",
        "| Survived             | Survival                                           |     0 = No, 1 = Yes                   |\n",
        "| Pclass               | Ticket class                                       |  1=Upper, 2=Middle, 3=Lower           |      \n",
        "| Name                 | Name of the passenger                              |                                       |\n",
        "| Sex                  | Gender of the passenger                            |   male, female                        |\n",
        "| Age                  | Age in years                                       |                                       |\n",
        "| SibSp                | Number of siblings / spouses aboard the Titanic    |                                       |\n",
        "| Parch                | Number of parents / children aboard the Titanic    |                                       |\n",
        "| Ticket               | Ticket number                                      |                                       |\n",
        "| Fare                 | Passenger fare                                     |                                       |\n",
        "| Cabin                | Cabin number                                       |                                       |\n",
        "| Embarked             | Port of Embarkation                                |    S, C, and Q                        |"
      ]
    },
    {
      "cell_type": "markdown",
      "metadata": {
        "id": "EGBqYzxDtoOW"
      },
      "source": [
        "**Embarked**\n",
        "| **Category** |    Name        |\n",
        "|--------------|----------------|\n",
        "|       S      | Southampton    |\n",
        "|       C      | Cherbourg      |\n",
        "|       Q      | Queenstown     |"
      ]
    },
    {
      "cell_type": "code",
      "execution_count": null,
      "metadata": {
        "id": "635lMlqvtoOX"
      },
      "outputs": [],
      "source": [
        "# Import relevant libraries\n",
        "import pandas as pd\n",
        "import numpy as np\n",
        "\n",
        "# Import visualization libraries\n",
        "import seaborn as sns\n",
        "import matplotlib.pyplot as plt\n",
        "\n",
        "# Supress warnings\n",
        "import warnings\n",
        "warnings.filterwarnings(\"ignore\")"
      ]
    },
    {
      "cell_type": "markdown",
      "metadata": {
        "id": "ndb8eP0WtoOZ"
      },
      "source": [
        "### **Data Loading**"
      ]
    },
    {
      "cell_type": "code",
      "execution_count": null,
      "metadata": {
        "colab": {
          "base_uri": "https://localhost:8080/",
          "height": 478
        },
        "id": "jgMgmklKtoOZ",
        "outputId": "156ac8db-464a-4d59-b5f3-936cdd86d652"
      },
      "outputs": [
        {
          "output_type": "error",
          "ename": "ParserError",
          "evalue": "Error tokenizing data. C error: Expected 1 fields in line 3, saw 3142\n",
          "traceback": [
            "\u001b[0;31m---------------------------------------------------------------------------\u001b[0m",
            "\u001b[0;31mParserError\u001b[0m                               Traceback (most recent call last)",
            "\u001b[0;32m<ipython-input-6-b99727163dd3>\u001b[0m in \u001b[0;36m<cell line: 0>\u001b[0;34m()\u001b[0m\n\u001b[1;32m      1\u001b[0m \u001b[0;31m# Loading data using pandas\u001b[0m\u001b[0;34m\u001b[0m\u001b[0;34m\u001b[0m\u001b[0m\n\u001b[0;32m----> 2\u001b[0;31m \u001b[0mdf\u001b[0m \u001b[0;34m=\u001b[0m \u001b[0mpd\u001b[0m\u001b[0;34m.\u001b[0m\u001b[0mread_csv\u001b[0m\u001b[0;34m(\u001b[0m\u001b[0;34m\"https://drive.google.com/file/d/1zC89wtvmoMdsN8Va2kciRZmVS0sxs2a7/view?usp=sharing\"\u001b[0m\u001b[0;34m)\u001b[0m\u001b[0;34m\u001b[0m\u001b[0;34m\u001b[0m\u001b[0m\n\u001b[0m",
            "\u001b[0;32m/usr/local/lib/python3.11/dist-packages/pandas/io/parsers/readers.py\u001b[0m in \u001b[0;36mread_csv\u001b[0;34m(filepath_or_buffer, sep, delimiter, header, names, index_col, usecols, dtype, engine, converters, true_values, false_values, skipinitialspace, skiprows, skipfooter, nrows, na_values, keep_default_na, na_filter, verbose, skip_blank_lines, parse_dates, infer_datetime_format, keep_date_col, date_parser, date_format, dayfirst, cache_dates, iterator, chunksize, compression, thousands, decimal, lineterminator, quotechar, quoting, doublequote, escapechar, comment, encoding, encoding_errors, dialect, on_bad_lines, delim_whitespace, low_memory, memory_map, float_precision, storage_options, dtype_backend)\u001b[0m\n\u001b[1;32m   1024\u001b[0m     \u001b[0mkwds\u001b[0m\u001b[0;34m.\u001b[0m\u001b[0mupdate\u001b[0m\u001b[0;34m(\u001b[0m\u001b[0mkwds_defaults\u001b[0m\u001b[0;34m)\u001b[0m\u001b[0;34m\u001b[0m\u001b[0;34m\u001b[0m\u001b[0m\n\u001b[1;32m   1025\u001b[0m \u001b[0;34m\u001b[0m\u001b[0m\n\u001b[0;32m-> 1026\u001b[0;31m     \u001b[0;32mreturn\u001b[0m \u001b[0m_read\u001b[0m\u001b[0;34m(\u001b[0m\u001b[0mfilepath_or_buffer\u001b[0m\u001b[0;34m,\u001b[0m \u001b[0mkwds\u001b[0m\u001b[0;34m)\u001b[0m\u001b[0;34m\u001b[0m\u001b[0;34m\u001b[0m\u001b[0m\n\u001b[0m\u001b[1;32m   1027\u001b[0m \u001b[0;34m\u001b[0m\u001b[0m\n\u001b[1;32m   1028\u001b[0m \u001b[0;34m\u001b[0m\u001b[0m\n",
            "\u001b[0;32m/usr/local/lib/python3.11/dist-packages/pandas/io/parsers/readers.py\u001b[0m in \u001b[0;36m_read\u001b[0;34m(filepath_or_buffer, kwds)\u001b[0m\n\u001b[1;32m    624\u001b[0m \u001b[0;34m\u001b[0m\u001b[0m\n\u001b[1;32m    625\u001b[0m     \u001b[0;32mwith\u001b[0m \u001b[0mparser\u001b[0m\u001b[0;34m:\u001b[0m\u001b[0;34m\u001b[0m\u001b[0;34m\u001b[0m\u001b[0m\n\u001b[0;32m--> 626\u001b[0;31m         \u001b[0;32mreturn\u001b[0m \u001b[0mparser\u001b[0m\u001b[0;34m.\u001b[0m\u001b[0mread\u001b[0m\u001b[0;34m(\u001b[0m\u001b[0mnrows\u001b[0m\u001b[0;34m)\u001b[0m\u001b[0;34m\u001b[0m\u001b[0;34m\u001b[0m\u001b[0m\n\u001b[0m\u001b[1;32m    627\u001b[0m \u001b[0;34m\u001b[0m\u001b[0m\n\u001b[1;32m    628\u001b[0m \u001b[0;34m\u001b[0m\u001b[0m\n",
            "\u001b[0;32m/usr/local/lib/python3.11/dist-packages/pandas/io/parsers/readers.py\u001b[0m in \u001b[0;36mread\u001b[0;34m(self, nrows)\u001b[0m\n\u001b[1;32m   1921\u001b[0m                     \u001b[0mcolumns\u001b[0m\u001b[0;34m,\u001b[0m\u001b[0;34m\u001b[0m\u001b[0;34m\u001b[0m\u001b[0m\n\u001b[1;32m   1922\u001b[0m                     \u001b[0mcol_dict\u001b[0m\u001b[0;34m,\u001b[0m\u001b[0;34m\u001b[0m\u001b[0;34m\u001b[0m\u001b[0m\n\u001b[0;32m-> 1923\u001b[0;31m                 \u001b[0;34m)\u001b[0m \u001b[0;34m=\u001b[0m \u001b[0mself\u001b[0m\u001b[0;34m.\u001b[0m\u001b[0m_engine\u001b[0m\u001b[0;34m.\u001b[0m\u001b[0mread\u001b[0m\u001b[0;34m(\u001b[0m  \u001b[0;31m# type: ignore[attr-defined]\u001b[0m\u001b[0;34m\u001b[0m\u001b[0;34m\u001b[0m\u001b[0m\n\u001b[0m\u001b[1;32m   1924\u001b[0m                     \u001b[0mnrows\u001b[0m\u001b[0;34m\u001b[0m\u001b[0;34m\u001b[0m\u001b[0m\n\u001b[1;32m   1925\u001b[0m                 )\n",
            "\u001b[0;32m/usr/local/lib/python3.11/dist-packages/pandas/io/parsers/c_parser_wrapper.py\u001b[0m in \u001b[0;36mread\u001b[0;34m(self, nrows)\u001b[0m\n\u001b[1;32m    232\u001b[0m         \u001b[0;32mtry\u001b[0m\u001b[0;34m:\u001b[0m\u001b[0;34m\u001b[0m\u001b[0;34m\u001b[0m\u001b[0m\n\u001b[1;32m    233\u001b[0m             \u001b[0;32mif\u001b[0m \u001b[0mself\u001b[0m\u001b[0;34m.\u001b[0m\u001b[0mlow_memory\u001b[0m\u001b[0;34m:\u001b[0m\u001b[0;34m\u001b[0m\u001b[0;34m\u001b[0m\u001b[0m\n\u001b[0;32m--> 234\u001b[0;31m                 \u001b[0mchunks\u001b[0m \u001b[0;34m=\u001b[0m \u001b[0mself\u001b[0m\u001b[0;34m.\u001b[0m\u001b[0m_reader\u001b[0m\u001b[0;34m.\u001b[0m\u001b[0mread_low_memory\u001b[0m\u001b[0;34m(\u001b[0m\u001b[0mnrows\u001b[0m\u001b[0;34m)\u001b[0m\u001b[0;34m\u001b[0m\u001b[0;34m\u001b[0m\u001b[0m\n\u001b[0m\u001b[1;32m    235\u001b[0m                 \u001b[0;31m# destructive to chunks\u001b[0m\u001b[0;34m\u001b[0m\u001b[0;34m\u001b[0m\u001b[0m\n\u001b[1;32m    236\u001b[0m                 \u001b[0mdata\u001b[0m \u001b[0;34m=\u001b[0m \u001b[0m_concatenate_chunks\u001b[0m\u001b[0;34m(\u001b[0m\u001b[0mchunks\u001b[0m\u001b[0;34m)\u001b[0m\u001b[0;34m\u001b[0m\u001b[0;34m\u001b[0m\u001b[0m\n",
            "\u001b[0;32mparsers.pyx\u001b[0m in \u001b[0;36mpandas._libs.parsers.TextReader.read_low_memory\u001b[0;34m()\u001b[0m\n",
            "\u001b[0;32mparsers.pyx\u001b[0m in \u001b[0;36mpandas._libs.parsers.TextReader._read_rows\u001b[0;34m()\u001b[0m\n",
            "\u001b[0;32mparsers.pyx\u001b[0m in \u001b[0;36mpandas._libs.parsers.TextReader._tokenize_rows\u001b[0;34m()\u001b[0m\n",
            "\u001b[0;32mparsers.pyx\u001b[0m in \u001b[0;36mpandas._libs.parsers.TextReader._check_tokenize_status\u001b[0;34m()\u001b[0m\n",
            "\u001b[0;32mparsers.pyx\u001b[0m in \u001b[0;36mpandas._libs.parsers.raise_parser_error\u001b[0;34m()\u001b[0m\n",
            "\u001b[0;31mParserError\u001b[0m: Error tokenizing data. C error: Expected 1 fields in line 3, saw 3142\n"
          ]
        }
      ],
      "source": [
        "# Loading data using pandas\n",
        "df = pd.read_csv(\"https://drive.google.com/file/d/1zC89wtvmoMdsN8Va2kciRZmVS0sxs2a7/view?usp=sharing\")"
      ]
    },
    {
      "cell_type": "code",
      "execution_count": null,
      "metadata": {
        "id": "JkNgKwZqtoOa"
      },
      "outputs": [],
      "source": [
        "# Check the first five rows of the dataset\n",
        "df.head()"
      ]
    },
    {
      "cell_type": "markdown",
      "metadata": {
        "id": "ZPFboT-ltoOb"
      },
      "source": [
        "## **Data Preprocessing**"
      ]
    },
    {
      "cell_type": "code",
      "execution_count": null,
      "metadata": {
        "id": "dXYwPlnKtoOb"
      },
      "outputs": [],
      "source": [
        "df.shape"
      ]
    },
    {
      "cell_type": "markdown",
      "metadata": {
        "id": "UiOQacaCtoOc"
      },
      "source": [
        "**Comment**\n",
        "- The dataset consists of 891 rows and 12 columns."
      ]
    },
    {
      "cell_type": "code",
      "execution_count": null,
      "metadata": {
        "id": "uPrVAEMmtoOc"
      },
      "outputs": [],
      "source": [
        "# Checking for columns in the dataset\n",
        "df.columns.to_list()"
      ]
    },
    {
      "cell_type": "code",
      "execution_count": null,
      "metadata": {
        "id": "sBx1_443toOd"
      },
      "outputs": [],
      "source": [
        "# Check for irregularities in the data i.e. null values, data types, etc.\n",
        "df.info()"
      ]
    },
    {
      "cell_type": "markdown",
      "metadata": {
        "id": "J4WQnXqTtoOd"
      },
      "source": [
        "**Comments**\n",
        "- Presence of missing values in three columns: `Age`, `Cabin`, and `Embarked`."
      ]
    },
    {
      "cell_type": "code",
      "execution_count": null,
      "metadata": {
        "id": "tdVTeAd1toOd"
      },
      "outputs": [],
      "source": [
        "# Percentage of missing values in each column\n",
        "(df.isnull().sum() / len(df) * 100).round(2)\n",
        "\n",
        "# df.isnull().mean().round(2) * 100"
      ]
    },
    {
      "cell_type": "markdown",
      "metadata": {
        "id": "lzRKl4pItoOe"
      },
      "source": [
        "**Comments**\n",
        "- `Age` has `19.87%` missing values, `Cabin`, `77.10%` missing values, and `Embarked`, `0.22%` missing values."
      ]
    },
    {
      "cell_type": "code",
      "execution_count": null,
      "metadata": {
        "id": "ogi24OVXtoOe"
      },
      "outputs": [],
      "source": [
        "# Check for statistics\n",
        "df.describe()"
      ]
    },
    {
      "cell_type": "markdown",
      "metadata": {
        "id": "dRWAXOPmtoOe"
      },
      "source": [
        "**Comments**\n",
        "- Presence of outliers in `Age`, `SibSp`, `Parch`, and `Fare` columns. The columns consists of extreme values from the 3rd quartile value."
      ]
    },
    {
      "cell_type": "code",
      "execution_count": null,
      "metadata": {
        "id": "nitxv9sBtoOe"
      },
      "outputs": [],
      "source": [
        "# Check for duplicates\n",
        "df.duplicated().sum()"
      ]
    },
    {
      "cell_type": "markdown",
      "metadata": {
        "id": "O3F88lQStoOf"
      },
      "source": [
        "**Comment**\n",
        "- No duplicate values in the dataset."
      ]
    },
    {
      "cell_type": "code",
      "execution_count": null,
      "metadata": {
        "id": "OdQyi6BttoOf"
      },
      "outputs": [],
      "source": [
        "# Check values in `Embarked`\n",
        "df['Embarked'].value_counts()"
      ]
    },
    {
      "cell_type": "markdown",
      "metadata": {
        "id": "tFKWyrhRtoOg"
      },
      "source": [
        "**Comments** \\\n",
        "The following were `titanic` intended passenger destinations:\n",
        "- S: `Southampton`: `644` passengers.\n",
        "- C: `Cherbourg`: `168` passengers.\n",
        "- Q: `Queenstown`: `77` passengers."
      ]
    },
    {
      "cell_type": "code",
      "execution_count": null,
      "metadata": {
        "id": "Dd5DSFNatoOg"
      },
      "outputs": [],
      "source": [
        "# Percentage of passengers embarked from each port\n",
        "(df['Embarked'].value_counts() / len(df) * 100).round(2)"
      ]
    },
    {
      "cell_type": "markdown",
      "metadata": {
        "id": "0L3yAehetoOg"
      },
      "source": [
        "**Comment**\n",
        "- Passengers destined to `Southampton` accounted for `72.50%` of the entire population, with `Cherbourg` accounting for `18.86%`, and `Queenstown`, `8.64%` respectively."
      ]
    },
    {
      "cell_type": "code",
      "execution_count": null,
      "metadata": {
        "id": "cPvvNGNQtoOg"
      },
      "outputs": [],
      "source": [
        "# Impute `Age` with the mean\n",
        "df['Age'].fillna(df['Age'].mean(), inplace=True)"
      ]
    },
    {
      "cell_type": "code",
      "execution_count": null,
      "metadata": {
        "id": "2tLqZ6NqtoOh"
      },
      "outputs": [],
      "source": [
        "# Impute `Embarked` with the mode \"S\"\n",
        "# df['Embarked'] = df['Embarked'].fillna(df['Embarked'].mode()[0], inplace=True)\n",
        "df['Embarked'].fillna('S', inplace=True)"
      ]
    },
    {
      "cell_type": "code",
      "execution_count": null,
      "metadata": {
        "id": "SlDFjZWftoOh"
      },
      "outputs": [],
      "source": [
        "# Drop `Cabin` column due to high percentage of missing values\n",
        "df.drop(columns=['Cabin'], inplace=True)"
      ]
    },
    {
      "cell_type": "code",
      "execution_count": null,
      "metadata": {
        "id": "eV5DS6-8toOh"
      },
      "outputs": [],
      "source": [
        "# Check for null values again\n",
        "df.isnull().sum()"
      ]
    },
    {
      "cell_type": "code",
      "execution_count": null,
      "metadata": {
        "id": "R7zPmRK-toOh"
      },
      "outputs": [],
      "source": [
        "# Check for unique values in `Survived`\n",
        "df['Survived'].value_counts()\n"
      ]
    },
    {
      "cell_type": "code",
      "execution_count": null,
      "metadata": {
        "id": "LhkB7SEktoOh"
      },
      "outputs": [],
      "source": [
        "# Percentage of passengers who survived\n",
        "(df['Survived'].value_counts() / len(df) * 100).round(2)"
      ]
    },
    {
      "cell_type": "markdown",
      "metadata": {
        "id": "uS9LeEH9toOi"
      },
      "source": [
        "**Comments**\n",
        "- The number of passengers who survived the accident were `342` accounting for `38.38%` of the entire population compared to the number of passengers who perished."
      ]
    },
    {
      "cell_type": "markdown",
      "metadata": {
        "id": "nzqZq1octoOi"
      },
      "source": [
        "## **Exploratory Data Analysis**\n",
        "**Objective**\n",
        "- To analyze and investigate data sets and summarize their main characteristics, often employing data visualization methods.\n",
        "\n",
        "**Benefits**\n",
        "- Helps determine how best to manipulate data sources to get the answers you need, making it easier for data scientists to discover patterns, spot anomalies, test a hypothesis, or check assumptions.\n",
        "\n",
        "### Univariate Analysis\n",
        "- The data being analyzed consists of just one variable."
      ]
    },
    {
      "cell_type": "code",
      "execution_count": null,
      "metadata": {
        "id": "MDMDhzojtoOi"
      },
      "outputs": [],
      "source": [
        "# Visualizing the number of survivors\n",
        "plt.figure(figsize=(10, 4))\n",
        "sns.countplot(x='Survived', data=df, palette='Set1')\n",
        "plt.title('Count of Survival')\n",
        "plt.xlabel('Survived')\n",
        "plt.ylabel('Count')\n",
        "plt.show()"
      ]
    },
    {
      "cell_type": "markdown",
      "metadata": {
        "id": "3-CnjfEKtoOi"
      },
      "source": [
        "- The number of passengers who survived the accident was low compared to the passengers who perished."
      ]
    },
    {
      "cell_type": "code",
      "execution_count": null,
      "metadata": {
        "id": "Yr1qOlzYtoOj"
      },
      "outputs": [],
      "source": [
        "# Visualizing the distribution of age\n",
        "plt.figure(figsize=(8, 6))\n",
        "sns.kdeplot(df['Age'], shade=True, color='cyan')\n",
        "plt.title('Age Density Plot')\n",
        "plt.xlabel('Age')\n",
        "plt.ylabel('Density')\n",
        "plt.show()\n"
      ]
    },
    {
      "cell_type": "markdown",
      "metadata": {
        "id": "MCkNCdeStoOj"
      },
      "source": [
        "- The `Age` is distributed at the middle between age `20` and `40`.\n",
        "- The number of passengers were positively skewed according to age."
      ]
    },
    {
      "cell_type": "code",
      "execution_count": null,
      "metadata": {
        "id": "XEZVoReGtoOj"
      },
      "outputs": [],
      "source": [
        "# Visualizing the distribution of `Embarked`\n",
        "plt.figure(figsize=(10, 4))\n",
        "sns.countplot(x='Embarked', data=df, palette='Set1')\n",
        "plt.title('Count of Embarked Locations')\n",
        "plt.xlabel('Embarked')\n",
        "plt.ylabel('Count')\n",
        "plt.show()"
      ]
    },
    {
      "cell_type": "markdown",
      "metadata": {
        "id": "grDClw5JtoOk"
      },
      "source": [
        "- Majority of the passengers were destined for `Southampton` port compared to `Cherbourg` and `Queenstown`."
      ]
    },
    {
      "cell_type": "code",
      "execution_count": null,
      "metadata": {
        "id": "zerH3NnFtoOk"
      },
      "outputs": [],
      "source": [
        "# Visualizing the distribution of `Pclass`\n",
        "plt.figure(figsize=(10, 4))\n",
        "sns.countplot(x='Pclass', data=df, palette='Set1')\n",
        "plt.title('Count of Passenger Classes')\n",
        "plt.xlabel('Pclass')\n",
        "plt.ylabel('Count')\n",
        "plt.show()\n"
      ]
    },
    {
      "cell_type": "markdown",
      "metadata": {
        "id": "136pobF9toOk"
      },
      "source": [
        "- Majority of the passengers preferred `3rd class` compared to `1st` and `2nd` class."
      ]
    },
    {
      "cell_type": "code",
      "execution_count": null,
      "metadata": {
        "id": "h5JKXU0ltoOq"
      },
      "outputs": [],
      "source": [
        "# Visualizing the distribution of ticket fare\n",
        "plt.figure(figsize=(8, 4))\n",
        "sns.kdeplot(df['Fare'], shade=True, color='cyan')\n",
        "plt.title('Fare Density Plot')\n",
        "plt.xlabel('Fare')\n",
        "plt.ylabel('Density')\n",
        "plt.show()"
      ]
    },
    {
      "cell_type": "markdown",
      "metadata": {
        "id": "bhib4vXOtoOr"
      },
      "source": [
        "- The plot is skewed to the right meaning majority of the passengers paid less than `100` for the service."
      ]
    },
    {
      "cell_type": "markdown",
      "metadata": {
        "id": "9Vmdw0XVtoOr"
      },
      "source": [
        "### Bivariate Analysis\n",
        "- It allow you to assess the relationship between each variable in the dataset and the target variable you’re looking at."
      ]
    },
    {
      "cell_type": "code",
      "execution_count": null,
      "metadata": {
        "id": "-Y9-3MMetoOr"
      },
      "outputs": [],
      "source": [
        "# Visualizing the relationship between `Pclass` and `Survived`\n",
        "plt.figure(figsize=(10, 4))\n",
        "sns.countplot(x='Pclass', hue='Survived', data=df)\n",
        "plt.title('Survival Count by Passenger Class')\n",
        "plt.xlabel('Pclass')\n",
        "plt.ylabel('Count')\n",
        "plt.legend(title='Survived', loc='upper right')\n",
        "plt.xticks([0, 1, 2], ['1st Class', '2nd Class', '3rd Class'])\n",
        "plt.show()\n"
      ]
    },
    {
      "cell_type": "markdown",
      "metadata": {
        "id": "aKBvkde_toOs"
      },
      "source": [
        "- Majority of passengers in the `1st` class survived the accident compared to the passengers in the `2nd` and `3rd` class.\n",
        "- Many passengers in the `3rd` class succumbed to the accident."
      ]
    },
    {
      "cell_type": "code",
      "execution_count": null,
      "metadata": {
        "id": "gsHi_6U3toOs"
      },
      "outputs": [],
      "source": [
        "# Visualizing the relationship between `Pclass` and `Fare`\n",
        "plt.figure(figsize=(10, 4))\n",
        "sns.boxplot(x='Pclass', y='Fare', data=df)\n",
        "plt.title('Fare Distribution by Passenger Class')\n",
        "plt.xlabel('Pclass')\n",
        "plt.ylabel('Fare')\n",
        "plt.show()"
      ]
    },
    {
      "cell_type": "markdown",
      "metadata": {
        "id": "Q95mbjVrtoOs"
      },
      "source": [
        "- Presence of extreme `fare` values in `1st` class compared to the other classes, i.e., `2nd` and `3rd` classes were cheaper than `1st` class."
      ]
    },
    {
      "cell_type": "code",
      "execution_count": null,
      "metadata": {
        "id": "d7ZSPsWotoOs"
      },
      "outputs": [],
      "source": [
        "# Visualizing the relationship between `Sex` and `Survived`\n",
        "plt.figure(figsize=(10, 4))\n",
        "sns.countplot(x='Sex', hue='Survived', data=df)\n",
        "plt.title('Survival Count by Sex')\n",
        "plt.xlabel(\"Sex\")\n",
        "plt.ylabel('Count')\n",
        "plt.legend(title='Survived', loc='upper right')\n",
        "plt.show();"
      ]
    },
    {
      "cell_type": "markdown",
      "metadata": {
        "id": "7XAqX-KltoOs"
      },
      "source": [
        "- Majority of men succumbed to the accident compared to women."
      ]
    },
    {
      "cell_type": "code",
      "execution_count": null,
      "metadata": {
        "id": "dhE5hH-utoOt"
      },
      "outputs": [],
      "source": [
        "# Visualizing the relationship between `Age` and `Survived`\n",
        "plt.figure(figsize=(10, 4))\n",
        "sns.boxplot(x='Survived', y='Age', data=df, palette='Set2')\n",
        "plt.title('Age Distribution by Survival')\n",
        "plt.xlabel('Survived')\n",
        "plt.ylabel('Age')\n",
        "plt.xticks([0, 1], ['Did not survive', 'Survived'])\n",
        "plt.show();"
      ]
    },
    {
      "cell_type": "markdown",
      "metadata": {
        "id": "JlY6tcWWtoOt"
      },
      "source": [
        "- The population that survived included individuals of extreme age like `80` years. This is an outlier that could be further investigated."
      ]
    },
    {
      "cell_type": "code",
      "execution_count": null,
      "metadata": {
        "id": "lKyVr0i-toOt"
      },
      "outputs": [],
      "source": [
        "# Visualizing the relationship between `Fare` and `Survived`\n",
        "plt.figure(figsize=(10, 4))\n",
        "sns.boxplot(x='Survived', y='Fare', data=df, palette='Set2')\n",
        "plt.title('Fare Distribution by Survival')\n",
        "plt.xlabel('Survived')\n",
        "plt.ylabel('Fare')\n",
        "plt.xticks([0, 1], ['Did not survive', 'Survived'])\n",
        "plt.show()"
      ]
    },
    {
      "cell_type": "markdown",
      "metadata": {
        "id": "xvNq1gvztoOt"
      },
      "source": [
        "- There is a relationship between passengers who paid high fares and survival. The higher the `fare` price, the higher the chances of `survival`."
      ]
    },
    {
      "cell_type": "markdown",
      "metadata": {
        "id": "ngotJZnmtoOt"
      },
      "source": [
        "### Multivariate Analysis\n",
        "- Used for mapping and understanding interactions between different fields in the data."
      ]
    },
    {
      "cell_type": "code",
      "execution_count": null,
      "metadata": {
        "id": "6lVvpX8QtoOu"
      },
      "outputs": [],
      "source": [
        "# Visualize the relationship between `Pclass`, `Age`, and `Survived`\n",
        "plt.figure(figsize=(12, 6))\n",
        "sns.boxplot(x='Pclass', y='Age', hue='Survived', data=df, palette='Set1')\n",
        "plt.title('Age Distribution by Passenger Class and Survival')\n",
        "plt.xlabel('Pclass')\n",
        "plt.ylabel('Age')\n",
        "plt.xticks([0, 1, 2], ['1st Class', '2nd Class', '3rd Class'])\n",
        "plt.legend(title='Survived', loc='upper right')\n",
        "plt.show();"
      ]
    },
    {
      "cell_type": "markdown",
      "metadata": {
        "id": "uSyMKKIytoOu"
      },
      "source": [
        "- There is a relationship between passengers who were in `1st` class, `age`, and `survival` rate.\n",
        "- Majority of passengers who survived the accident belonged to the `1st` class and were averagely in their `30s`, with the passengers surviving in the `2nd` and `3rd` class being `below 30` years.\n",
        "- Majority of the passengers in the `1st` class who died were `above 30` compared to passengers in the `2nd` and `3rd` class which contained passengers of `below 30` years succumbing to the accident."
      ]
    },
    {
      "cell_type": "code",
      "execution_count": null,
      "metadata": {
        "id": "UM_nX3ibtoOu"
      },
      "outputs": [],
      "source": [
        "# Visualize the relationship between `Pclass`, `Age`, and `Fare`\n",
        "g = sns.FacetGrid(df, col=\"Pclass\", height=5, aspect=1)\n",
        "g.map(sns.scatterplot, \"Age\", \"Fare\", alpha=0.7)\n",
        "g.set_axis_labels(\"Age\", \"Fare\")\n",
        "g.set_titles(\"Pclass {col_name}\")\n",
        "plt.show()\n",
        "\n",
        "# plt.figure(figsize=(12, 6))\n",
        "# sns.scatterplot(x='Age', y='Fare', hue='Pclass', data=df, palette='Set2')\n",
        "# plt.title('Relationship Between Age, Fare, and Pclass')\n",
        "# plt.xlabel('Age')\n",
        "# plt.ylabel('Fare')\n",
        "# plt.legend(title='Pclass')\n",
        "# plt.show()"
      ]
    },
    {
      "cell_type": "markdown",
      "metadata": {
        "id": "2GpFkaRItoOu"
      },
      "source": [
        "- Passengers who occupied `1st` class paid higher `fares` compared to passengers in the `2nd` and `3rd` classes who paid below `100`."
      ]
    },
    {
      "cell_type": "code",
      "execution_count": null,
      "metadata": {
        "id": "KYsZxa8gtoOv"
      },
      "outputs": [],
      "source": [
        "# Visualize the relationship between `survived`, `Emberked`, and `Pclass`\n",
        "heatmap_data = df.pivot_table(index='Embarked', columns='Pclass', values='Survived', aggfunc='mean')\n",
        "\n",
        "plt.figure(figsize=(10, 6))\n",
        "sns.heatmap(heatmap_data, annot=True, cmap='Blues', fmt=\".2f\")\n",
        "plt.title('Survival Rate by Embarked and Pclass')\n",
        "plt.xlabel('Pclass')\n",
        "plt.ylabel('Embarked')\n",
        "plt.show()"
      ]
    },
    {
      "cell_type": "markdown",
      "metadata": {
        "id": "vk9x4NEMtoOv"
      },
      "source": [
        "**Comments**\n",
        "- There is a correlation between passengers who boarded `1st` class and were destined for `Cherbourg` port. Majority of the passengers survived the accident.\n",
        "- There is also a correlation between passengers who boarded `2nd` class and were destined for `Queenstown` port. Majority of this group survived the accident as well.\n",
        "- Majority of passengers who boarded `3rd` class and were destined for `Southampton` port succumbed to the accident with low survival rate."
      ]
    },
    {
      "cell_type": "markdown",
      "metadata": {
        "id": "EbFJMWWltoOw"
      },
      "source": [
        "### Outlier Detection and Handling"
      ]
    },
    {
      "cell_type": "code",
      "execution_count": null,
      "metadata": {
        "id": "HmKZqeuKtoOw"
      },
      "outputs": [],
      "source": [
        "df.select_dtypes(include=['float64', 'int64']).columns"
      ]
    },
    {
      "cell_type": "code",
      "execution_count": null,
      "metadata": {
        "id": "2jtUzoPdtoOx"
      },
      "outputs": [],
      "source": [
        "# # Checking for outliers in `Age`, `SibSp`, `Parch`, and `Fare` columns\n",
        "\n",
        "# Specify the columns to visualize\n",
        "columns_to_plot = ['Pclass', 'Age', 'SibSp', 'Parch', 'Fare']\n",
        "\n",
        "# Create the figure and axes\n",
        "fig, axes = plt.subplots(3, 2, figsize=(12, 10), sharey=False)\n",
        "\n",
        "# Flatten the axes array for iteration\n",
        "axes = axes.flatten()\n",
        "\n",
        "# Plot box plots for each column\n",
        "for ax, column in zip(axes, columns_to_plot):\n",
        "    sns.boxplot(x=df[column], ax=ax, color='blue', width=0.5)\n",
        "    ax.set_title(f'Box Plot of {column}')\n",
        "    ax.set_xlabel(column)\n",
        "\n",
        "# Remove any unused axes\n",
        "for ax in axes[len(columns_to_plot):]:\n",
        "    ax.remove()\n",
        "\n",
        "plt.tight_layout()\n",
        "plt.show()"
      ]
    },
    {
      "cell_type": "markdown",
      "metadata": {
        "id": "SaCAkQcwtoOx"
      },
      "source": [
        "**Comments**\n",
        "- Presence of outliers in `Age`, `SibSp`, `Parch`, and `Fare` columns.\n",
        "\n",
        "**Handling Outliers**\n",
        "\\\n",
        "Outliers cannot be removed because:\n",
        "\n",
        "- It can lead to loss of valuable information, distorting the dataset and/or tampering with the integrity of the data.\n",
        "- It can be used to detect rare events such as elderly surviving the titanic accident as seen in the dataset.\n",
        "- It can be used to improve predicitons during modeling in future and support insights.\n",
        "- It can introduce biasness in the dataset especially if the outlier is meaningful and not an error."
      ]
    },
    {
      "cell_type": "markdown",
      "metadata": {
        "id": "kfwlSdm9toOx"
      },
      "source": [
        "# Target Variable Exploration\n",
        "\n",
        "A `target variable` is the variable that the user would want to predict using the rest of the dataset especially in supervised machine learning model."
      ]
    },
    {
      "cell_type": "code",
      "execution_count": null,
      "metadata": {
        "id": "Ew_lDvOCtoOx"
      },
      "outputs": [],
      "source": [
        "(df['Survived'].value_counts(normalize=True) * 100).round(2)"
      ]
    },
    {
      "cell_type": "code",
      "execution_count": null,
      "metadata": {
        "id": "vWF4pNMvtoOy"
      },
      "outputs": [],
      "source": [
        "# Analyze the `survived` column\n",
        "survival_counts = df['Survived'].value_counts(normalize=True) * 100\n",
        "survival_counts = survival_counts.rename({0: 'Did not survive', 1: 'Survived'})\n",
        "# Create a bar plot for survival rates\n",
        "plt.figure(figsize=(8, 5))\n",
        "sns.barplot(x=survival_counts.index, y=survival_counts.values, palette='Set1')\n",
        "plt.title('Survival Rates')\n",
        "plt.xlabel('Survival Status')\n",
        "plt.ylabel('Percentage (%)')\n",
        "plt.xticks(rotation=0)\n",
        "plt.ylim(0, 100)\n",
        "plt.show();"
      ]
    },
    {
      "cell_type": "markdown",
      "metadata": {
        "id": "AZrvdhOxtoOy"
      },
      "source": [
        "**Comments**\n",
        "- `61.62%` of the passengers lost their lives from the titanic accident compared to `38.83%` who survived."
      ]
    },
    {
      "cell_type": "code",
      "execution_count": null,
      "metadata": {
        "id": "5J32BOrAtoOy"
      },
      "outputs": [],
      "source": [
        "# Visualize the distribution of `Survived` by `Pclass`\n",
        "plt.figure(figsize=(10, 4))\n",
        "sns.countplot(x='Pclass', hue='Survived', data=df, palette='Set1')\n",
        "plt.title('Survival Count by Passenger Class')\n",
        "plt.xlabel('Pclass')\n",
        "plt.ylabel('Count')\n",
        "plt.legend(title='Survived', loc='upper right')\n",
        "plt.xticks([0, 1, 2], ['1st Class', '2nd Class', '3rd Class'])\n",
        "plt.show()"
      ]
    },
    {
      "cell_type": "markdown",
      "metadata": {
        "id": "9EcQmVFGtoOy"
      },
      "source": [
        "**Comments**\n",
        "- Most passengers who survived the accident came from the `1st` class, while majority of the passengers who died from the accident came from `3rd` class.\n",
        "- In `2nd` class, both survivors and those who died were of average population."
      ]
    },
    {
      "cell_type": "code",
      "execution_count": null,
      "metadata": {
        "id": "wmaFqDbDtoOz"
      },
      "outputs": [],
      "source": [
        "# Visualize the distribution of `Survived` by `Sex`\n",
        "plt.figure(figsize=(10, 4))\n",
        "sns.countplot(x='Sex', hue='Survived', data=df, palette='Set1')\n",
        "plt.title('Survival Count by Sex')\n",
        "plt.xlabel('Sex')\n",
        "plt.ylabel('Count')\n",
        "plt.legend(title='Survived', loc='upper right')\n",
        "plt.xticks(rotation=0)\n",
        "plt.show();"
      ]
    },
    {
      "cell_type": "markdown",
      "metadata": {
        "id": "UkGpt3dstoOz"
      },
      "source": [
        "**Comments**\n",
        "- The number of female passengers who survived the accident were more compared to men."
      ]
    },
    {
      "cell_type": "code",
      "execution_count": null,
      "metadata": {
        "id": "Yjbz0D3jtoOz"
      },
      "outputs": [],
      "source": [
        "# Visualize the distribution of `survived` by `Embarked`\n",
        "plt.figure(figsize=(10, 4))\n",
        "sns.countplot(x='Embarked', hue='Survived', data=df, palette='Set1')\n",
        "plt.title('Survival Count by Embarked Location')\n",
        "plt.xlabel('Embarked')\n",
        "plt.ylabel('Count')\n",
        "plt.legend(title='Survived', loc='upper right')\n",
        "plt.xticks(rotation=0)\n",
        "plt.show();"
      ]
    },
    {
      "cell_type": "markdown",
      "metadata": {
        "id": "CeWM3_v0toOz"
      },
      "source": [
        "**Comments**\n",
        "- Passengers destined for `Southampton` port contained both high deaths and survival rates compared to `Cherbourg` and `Queenstown` ports.\n",
        "- Most passengers destined for `Cherbourg` port survived the accident."
      ]
    },
    {
      "cell_type": "code",
      "execution_count": null,
      "metadata": {
        "id": "sJuYwIZitoO0"
      },
      "outputs": [],
      "source": [
        "# Visualize the distribution of `survived` by `Age`\n",
        "plt.figure(figsize=(10, 4))\n",
        "sns.boxplot(x='Survived', y='Age', data=df, palette='Set1')\n",
        "plt.title('Age Distribution by Survival')\n",
        "plt.xlabel('Survived')\n",
        "plt.ylabel('Age')\n",
        "plt.xticks([0, 1], ['Did not survive', 'Survived'])\n",
        "plt.show();"
      ]
    },
    {
      "cell_type": "markdown",
      "metadata": {
        "id": "b8PKq3_ItoO0"
      },
      "source": [
        "**Comments**\n",
        "- Majority of passengers who died and survived the accident were averagly in their `min-20s` and `mid-30s` respectively.\n",
        "- There were outliers in the deaths which included children below approximately `5` years and passengers above the age of `50`.\n",
        "- However, there were survivors who were approximately `60` years and above who are part of the outliers."
      ]
    },
    {
      "cell_type": "code",
      "execution_count": null,
      "metadata": {
        "id": "NNpRqLLftoO0"
      },
      "outputs": [],
      "source": [
        "# Visualize the distribution of `survived` by `Fare`\n",
        "plt.figure(figsize=(10, 4))\n",
        "sns.boxplot(x='Survived', y='Fare', data=df, palette='Set1')\n",
        "plt.title('Fare Distribution by Survival')\n",
        "plt.xlabel('Survived')\n",
        "plt.ylabel('Fare')\n",
        "plt.xticks([0, 1], ['Did not survive', 'Survived'])\n",
        "plt.show();"
      ]
    },
    {
      "cell_type": "markdown",
      "metadata": {
        "id": "cr8N6eHetoO0"
      },
      "source": [
        "**Comments**\n",
        "- Passengers who paid higher `fares` were likely to survive the accident compared to the majority who paid below `100`."
      ]
    },
    {
      "cell_type": "code",
      "execution_count": null,
      "metadata": {
        "id": "TpZ1Rj05toO0"
      },
      "outputs": [],
      "source": [
        "# Visualize the relationship between `Pclass`, `Sex`, and `Survived`\n",
        "plt.figure(figsize=(10, 4))\n",
        "sns.countplot(x='Pclass', hue='Survived', data=df, palette='Set1')\n",
        "plt.title('Survival Count by Passenger Class')\n",
        "plt.xlabel('Pclass')\n",
        "plt.ylabel('Count')\n",
        "plt.legend(title='Survived', loc='upper right')\n",
        "plt.xticks([0, 1, 2], ['1st Class', '2nd Class', '3rd Class'])\n",
        "plt.show();"
      ]
    },
    {
      "cell_type": "markdown",
      "metadata": {
        "id": "o6-528q6toO1"
      },
      "source": [
        "**Comments**\n",
        "- Majority of passengers who survived the accident were in `1st` class compared to `2nd` and `3rd` classes.\n",
        "- `3rd` class experiences the highest death rates."
      ]
    },
    {
      "cell_type": "markdown",
      "metadata": {
        "id": "iV2ZqbWctoO1"
      },
      "source": [
        "### **Conclusion**"
      ]
    },
    {
      "cell_type": "markdown",
      "metadata": {
        "id": "oXFT_WIqtoO1"
      },
      "source": [
        "In conclusion, few passengers survived the accident. i.e. `61.62%` of the population succumbed to the accident compared to `38.38%` who survived. Majority of passengers who boarded the titanic were between the age of `20` and `40` accounting for the young adults in the population. Majority of passengers in the 3rd class died compared to 1st and 2nd class.\\\n",
        "Majority of men succumbed to the accident compared to women. Majority of the passengers who succumbed to the accident were destined for `Southampton` port. However, there was an exception case of an elderly who survived accident that need to be looked into.  \n"
      ]
    }
  ],
  "metadata": {
    "kernelspec": {
      "display_name": "Python 3",
      "language": "python",
      "name": "python3"
    },
    "language_info": {
      "codemirror_mode": {
        "name": "ipython",
        "version": 3
      },
      "file_extension": ".py",
      "mimetype": "text/x-python",
      "name": "python",
      "nbconvert_exporter": "python",
      "pygments_lexer": "ipython3",
      "version": "3.12.10"
    },
    "colab": {
      "provenance": []
    }
  },
  "nbformat": 4,
  "nbformat_minor": 0
}